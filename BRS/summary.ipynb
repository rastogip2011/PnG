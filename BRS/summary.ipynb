{
 "cells": [
  {
   "cell_type": "code",
   "execution_count": 3,
   "metadata": {},
   "outputs": [
    {
     "name": "stdout",
     "output_type": "stream",
     "text": [
      "Running summary.py\n"
     ]
    }
   ],
   "source": [
    "from variables import *\n",
    "import pandas as pd\n",
    "import openpyxl as op\n",
    "\n",
    "print(\"Running summary.py\")\n",
    "\n",
    "vu = dict()\n",
    "brs = dict()\n",
    "business = dict()\n",
    "\n",
    "BRS = pd.read_excel(optimizer_output, sheet_BRS)\n",
    "VU = pd.read_excel(optimizer_output, sheet_VU)\n",
    "SUMMARY = pd.read_excel(filename_summary, sheet_summary)\n",
    "\n",
    "brslist = BRS.values\n",
    "vulist = VU.values\n",
    "summarylist = SUMMARY.values\n",
    "\n",
    "\n",
    "for i in vulist:\n",
    "\ttry:\n",
    "\t\tbranch = i[1].split(' + ')\n",
    "\t\tfor b in branch:\n",
    "\t\t\tbr = b.split(' ')[0]\n",
    "\t\t\tvu[br] = i[2]\n",
    "\texcept:\n",
    "\t\ta=1\n",
    "\n",
    "for i in summarylist:\n",
    "\ttry:\n",
    "\t\tbranch = i[3].split(' ')[0]\n",
    "\t\tbrs[branch]=0\n",
    "\t\tbusiness[branch]=i[6]\n",
    "\texcept:\n",
    "\t\ta=1\n",
    "\n",
    "for i in brslist:\n",
    "\ttry:\n",
    "\t\tbranch = i[1].split(' + ')\n",
    "\t\ts = 0\n",
    "\t\tfor b in branch:\n",
    "\t\t\tb=b.split(' ')[0]\n",
    "\t\t\ts = s+business[b]\n",
    "\t\tfor b in branch:\n",
    "\t\t\tb=b.split(' ')[0]\n",
    "\t\t\tbrs[b]=brs[b]+i[2]*business[b]/s/1000\n",
    "\texcept:\n",
    "\t\ta=1\n",
    "\n",
    "\n",
    "parcel_sites = set()\n",
    "Psheet = pd.read_excel(filename_master,sheet_Parcel).values.ravel()\n",
    "[parcel_sites.add(x) for x in Psheet];\n"
   ]
  },
  {
   "cell_type": "code",
   "execution_count": 8,
   "metadata": {},
   "outputs": [
    {
     "data": {
      "text/plain": [
       "120"
      ]
     },
     "execution_count": 8,
     "metadata": {},
     "output_type": "execute_result"
    }
   ],
   "source": [
    "wbk = op.load_workbook(filename_summary)\n",
    "wb=wbk[sheet_summary]\n",
    "\n",
    "n = summarylist.shape[0]\n",
    "for i in range(2,n+2):\n",
    "\ttry:\n",
    "\t\tbranch = wb.cell(i,4).value\n",
    "\t\tbranch = branch.split(' ')[0]\n",
    "\n",
    "\t\tif branch in brs:\n",
    "\t\t\twb.cell(i,14).value = round(brs[branch], 2)\t\t# BRS \n",
    "\t\t\twb.cell(i,23).value = round(vu[branch], 2)\t\t# VU\n",
    "\t\telse:\n",
    "\t\t\twb.cell(i,14).value = 0\t\t\t\t\t\t\t# BRS \n",
    "\t\t\twb.cell(i,23).value = 0\t\t\t\t\t\t\t# VU\n",
    "\n",
    "\t\tsite = wb.cell(i,1).value\n",
    "\t\tif site in parcel_sites:\n",
    "\t\t\twb.cell(i,14).value = round(brs[branch], 2)\n",
    "\n",
    "\texcept:\n",
    "\t\ta=1\n",
    "\n",
    "wbk.save(filename_summary)\n",
    "wbk.close\n",
    "\n",
    "print(\"Saving summary file\")\n",
    "print(\"Completed!\")\n"
   ]
  },
  {
   "cell_type": "code",
   "execution_count": 4,
   "metadata": {},
   "outputs": [],
   "source": []
  },
  {
   "cell_type": "code",
   "execution_count": null,
   "metadata": {},
   "outputs": [],
   "source": []
  },
  {
   "cell_type": "code",
   "execution_count": null,
   "metadata": {},
   "outputs": [],
   "source": []
  }
 ],
 "metadata": {
  "kernelspec": {
   "display_name": "Python 3",
   "language": "python",
   "name": "python3"
  },
  "language_info": {
   "codemirror_mode": {
    "name": "ipython",
    "version": 3
   },
   "file_extension": ".py",
   "mimetype": "text/x-python",
   "name": "python",
   "nbconvert_exporter": "python",
   "pygments_lexer": "ipython3",
   "version": "3.6.5"
  }
 },
 "nbformat": 4,
 "nbformat_minor": 2
}
